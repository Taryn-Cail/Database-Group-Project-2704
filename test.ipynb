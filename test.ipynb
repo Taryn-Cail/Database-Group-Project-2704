{
  "nbformat": 4,
  "nbformat_minor": 0,
  "metadata": {
    "colab": {
      "provenance": [],
      "include_colab_link": true
    },
    "kernelspec": {
      "name": "python3",
      "display_name": "Python 3"
    },
    "language_info": {
      "name": "python"
    }
  },
  "cells": [
    {
      "cell_type": "markdown",
      "metadata": {
        "id": "view-in-github",
        "colab_type": "text"
      },
      "source": [
        "<a href=\"https://colab.research.google.com/github/Taryn-Cail/Python-Group-Project-2704/blob/main/test.ipynb\" target=\"_parent\"><img src=\"https://colab.research.google.com/assets/colab-badge.svg\" alt=\"Open In Colab\"/></a>"
      ]
    },
    {
      "cell_type": "code",
      "execution_count": 1,
      "metadata": {
        "id": "kVUn_6FEAJiV",
        "outputId": "1adcdb2b-c017-4654-aeed-434cbe7f8e59",
        "colab": {
          "base_uri": "https://localhost:8080/"
        }
      },
      "outputs": [
        {
          "output_type": "stream",
          "name": "stdout",
          "text": [
            "hello World!\n",
            "testing push\n"
          ]
        }
      ],
      "source": [
        "print(\"hello World!\")\n",
        "print(\"testing push\")"
      ]
    },
    {
      "cell_type": "markdown",
      "source": [
        "testing push!"
      ],
      "metadata": {
        "id": "8ps0ghPvCA_x"
      }
    },
    {
      "cell_type": "code",
      "source": [
        "print(\"testing push again\")"
      ],
      "metadata": {
        "id": "YlyPELiSC4_c"
      },
      "execution_count": null,
      "outputs": []
    }
  ]
}