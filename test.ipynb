{
  "nbformat": 4,
  "nbformat_minor": 0,
  "metadata": {
    "colab": {
      "provenance": [],
      "include_colab_link": true
    },
    "kernelspec": {
      "name": "python3",
      "display_name": "Python 3"
    },
    "language_info": {
      "name": "python"
    }
  },
  "cells": [
    {
      "cell_type": "markdown",
      "metadata": {
        "id": "view-in-github",
        "colab_type": "text"
      },
      "source": [
        "<a href=\"https://colab.research.google.com/github/Taryn-Cail/Database-Group-Project-2704/blob/main/test.ipynb\" target=\"_parent\"><img src=\"https://colab.research.google.com/assets/colab-badge.svg\" alt=\"Open In Colab\"/></a>"
      ]
    },
    {
      "cell_type": "code",
      "execution_count": null,
      "metadata": {
        "id": "kVUn_6FEAJiV",
        "outputId": "7c228593-f408-4479-9bb1-8a202b29bca1",
        "colab": {
          "base_uri": "https://localhost:8080/"
        }
      },
      "outputs": [
        {
          "output_type": "stream",
          "name": "stdout",
          "text": [
            "hello World!\n"
          ]
        }
      ],
      "source": [
        "print(\"hello World!\")"
      ]
    },
    {
      "cell_type": "markdown",
      "source": [
        "testing push!"
      ],
      "metadata": {
        "id": "8ps0ghPvCA_x"
      }
    },
    {
      "cell_type": "code",
      "source": [
        "print(\"testing push again\")"
      ],
      "metadata": {
        "id": "YlyPELiSC4_c"
      },
      "execution_count": null,
      "outputs": []
    }
  ]
}